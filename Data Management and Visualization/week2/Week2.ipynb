{
 "metadata": {
  "language_info": {
   "codemirror_mode": {
    "name": "ipython",
    "version": 3
   },
   "file_extension": ".py",
   "mimetype": "text/x-python",
   "name": "python",
   "nbconvert_exporter": "python",
   "pygments_lexer": "ipython3",
   "version": "3.6.12-final"
  },
  "orig_nbformat": 2,
  "kernelspec": {
   "name": "Python 3.6.12 64-bit ('conda': conda)",
   "display_name": "Python 3.6.12 64-bit ('conda': conda)",
   "metadata": {
    "interpreter": {
     "hash": "48858586ecdddd909ece2515a431d924087e6d09d452a01e63a879db3ebf31a1"
    }
   }
  }
 },
 "nbformat": 4,
 "nbformat_minor": 2,
 "cells": [
  {
   "source": [
    "import pandas as pd\n",
    "import numpy as np"
   ],
   "cell_type": "code",
   "metadata": {},
   "execution_count": 1,
   "outputs": []
  },
  {
   "source": [
    "## Read Data"
   ],
   "cell_type": "markdown",
   "metadata": {}
  },
  {
   "cell_type": "code",
   "execution_count": 2,
   "metadata": {},
   "outputs": [
    {
     "output_type": "execute_result",
     "data": {
      "text/plain": [
       "       country   incomeperperson alcconsumption armedforcesrate  \\\n",
       "0  Afghanistan                              .03        .5696534   \n",
       "1      Albania  1914.99655094922           7.29       1.0247361   \n",
       "2      Algeria  2231.99333515006            .69        2.306817   \n",
       "3      Andorra  21943.3398976022          10.17                   \n",
       "4       Angola  1381.00426770244           5.57       1.4613288   \n",
       "\n",
       "  breastcancerper100th      co2emissions  femaleemployrate hivrate  \\\n",
       "0                 26.8          75944000  25.6000003814697           \n",
       "1                 57.4  223747333.333333  42.0999984741211           \n",
       "2                 23.5  2932108666.66667  31.7000007629394      .1   \n",
       "3                                                                    \n",
       "4                 23.1         248358000  69.4000015258789       2   \n",
       "\n",
       "    internetuserate lifeexpectancy     oilperperson polityscore  \\\n",
       "0  3.65412162280064         48.673                            0   \n",
       "1  44.9899469578783         76.918                            9   \n",
       "2  12.5000733055148         73.131  .42009452521537           2   \n",
       "3                81                                               \n",
       "4  9.99995388324075         51.093                           -2   \n",
       "\n",
       "  relectricperperson   suicideper100th        employrate urbanrate  \n",
       "0                     6.68438529968262  55.7000007629394     24.04  \n",
       "1   636.341383366604  7.69932985305786  51.4000015258789     46.72  \n",
       "2   590.509814347428   4.8487696647644              50.5     65.22  \n",
       "3                     5.36217880249023                       88.92  \n",
       "4   172.999227388199  14.5546770095825  75.6999969482422      56.7  "
      ],
      "text/html": "<div>\n<style scoped>\n    .dataframe tbody tr th:only-of-type {\n        vertical-align: middle;\n    }\n\n    .dataframe tbody tr th {\n        vertical-align: top;\n    }\n\n    .dataframe thead th {\n        text-align: right;\n    }\n</style>\n<table border=\"1\" class=\"dataframe\">\n  <thead>\n    <tr style=\"text-align: right;\">\n      <th></th>\n      <th>country</th>\n      <th>incomeperperson</th>\n      <th>alcconsumption</th>\n      <th>armedforcesrate</th>\n      <th>breastcancerper100th</th>\n      <th>co2emissions</th>\n      <th>femaleemployrate</th>\n      <th>hivrate</th>\n      <th>internetuserate</th>\n      <th>lifeexpectancy</th>\n      <th>oilperperson</th>\n      <th>polityscore</th>\n      <th>relectricperperson</th>\n      <th>suicideper100th</th>\n      <th>employrate</th>\n      <th>urbanrate</th>\n    </tr>\n  </thead>\n  <tbody>\n    <tr>\n      <th>0</th>\n      <td>Afghanistan</td>\n      <td></td>\n      <td>.03</td>\n      <td>.5696534</td>\n      <td>26.8</td>\n      <td>75944000</td>\n      <td>25.6000003814697</td>\n      <td></td>\n      <td>3.65412162280064</td>\n      <td>48.673</td>\n      <td></td>\n      <td>0</td>\n      <td></td>\n      <td>6.68438529968262</td>\n      <td>55.7000007629394</td>\n      <td>24.04</td>\n    </tr>\n    <tr>\n      <th>1</th>\n      <td>Albania</td>\n      <td>1914.99655094922</td>\n      <td>7.29</td>\n      <td>1.0247361</td>\n      <td>57.4</td>\n      <td>223747333.333333</td>\n      <td>42.0999984741211</td>\n      <td></td>\n      <td>44.9899469578783</td>\n      <td>76.918</td>\n      <td></td>\n      <td>9</td>\n      <td>636.341383366604</td>\n      <td>7.69932985305786</td>\n      <td>51.4000015258789</td>\n      <td>46.72</td>\n    </tr>\n    <tr>\n      <th>2</th>\n      <td>Algeria</td>\n      <td>2231.99333515006</td>\n      <td>.69</td>\n      <td>2.306817</td>\n      <td>23.5</td>\n      <td>2932108666.66667</td>\n      <td>31.7000007629394</td>\n      <td>.1</td>\n      <td>12.5000733055148</td>\n      <td>73.131</td>\n      <td>.42009452521537</td>\n      <td>2</td>\n      <td>590.509814347428</td>\n      <td>4.8487696647644</td>\n      <td>50.5</td>\n      <td>65.22</td>\n    </tr>\n    <tr>\n      <th>3</th>\n      <td>Andorra</td>\n      <td>21943.3398976022</td>\n      <td>10.17</td>\n      <td></td>\n      <td></td>\n      <td></td>\n      <td></td>\n      <td></td>\n      <td>81</td>\n      <td></td>\n      <td></td>\n      <td></td>\n      <td></td>\n      <td>5.36217880249023</td>\n      <td></td>\n      <td>88.92</td>\n    </tr>\n    <tr>\n      <th>4</th>\n      <td>Angola</td>\n      <td>1381.00426770244</td>\n      <td>5.57</td>\n      <td>1.4613288</td>\n      <td>23.1</td>\n      <td>248358000</td>\n      <td>69.4000015258789</td>\n      <td>2</td>\n      <td>9.99995388324075</td>\n      <td>51.093</td>\n      <td></td>\n      <td>-2</td>\n      <td>172.999227388199</td>\n      <td>14.5546770095825</td>\n      <td>75.6999969482422</td>\n      <td>56.7</td>\n    </tr>\n  </tbody>\n</table>\n</div>"
     },
     "metadata": {},
     "execution_count": 2
    }
   ],
   "source": [
    "#Load the data with pandas\n",
    "df = pd.read_csv('../gapminder.csv', low_memory=False)\n",
    "df.head()"
   ]
  },
  {
   "cell_type": "code",
   "execution_count": 3,
   "metadata": {},
   "outputs": [
    {
     "output_type": "stream",
     "name": "stdout",
     "text": [
      "Number of observations (rows) 213\nNumber of variables (cols) 16\n"
     ]
    }
   ],
   "source": [
    "#Number of rows and columns \n",
    "print('Number of observations (rows)', len(df))\n",
    "print('Number of variables (cols)', len(df.columns))"
   ]
  },
  {
   "cell_type": "code",
   "execution_count": 4,
   "metadata": {},
   "outputs": [],
   "source": [
    "# bug fix for display formats to avoid run time errors\n",
    "pd.set_option('display.float_format', lambda x:'%f'%x)"
   ]
  },
  {
   "cell_type": "code",
   "execution_count": 5,
   "metadata": {},
   "outputs": [
    {
     "output_type": "execute_result",
     "data": {
      "text/plain": [
       "     incomeperperson  alcconsumption  armedforcesrate  breastcancerper100th  \\\n",
       "0                nan        0.030000         0.569653             26.800000   \n",
       "1        1914.996551        7.290000         1.024736             57.400000   \n",
       "2        2231.993335        0.690000         2.306817             23.500000   \n",
       "3       21943.339898       10.170000              nan                   nan   \n",
       "4        1381.004268        5.570000         1.461329             23.100000   \n",
       "..               ...             ...              ...                   ...   \n",
       "208       722.807559        3.910000         1.085367             16.200000   \n",
       "209              nan             nan         5.936085                   nan   \n",
       "210       610.357367        0.200000         2.316235             35.100000   \n",
       "211       432.226337        3.560000         0.341335             13.000000   \n",
       "212       320.771890        4.960000         1.032785             19.000000   \n",
       "\n",
       "         co2emissions  femaleemployrate   hivrate  internetuserate  \\\n",
       "0     75944000.000000         25.600000       nan         3.654122   \n",
       "1    223747333.333333         42.099998       nan        44.989947   \n",
       "2   2932108666.666670         31.700001  0.100000        12.500073   \n",
       "3                 nan               nan       nan        81.000000   \n",
       "4    248358000.000000         69.400002  2.000000         9.999954   \n",
       "..                ...               ...       ...              ...   \n",
       "208 1425435000.000000         67.599998  0.400000        27.851822   \n",
       "209   14241333.333333         11.300000       nan        36.422772   \n",
       "210  234864666.666667         20.299999       nan        12.349750   \n",
       "211  132025666.666667         53.500000 13.500000        10.124986   \n",
       "212  590219666.666666         58.099998 14.300000        11.500415   \n",
       "\n",
       "     lifeexpectancy  oilperperson  polityscore  relectricperperson  \\\n",
       "0         48.673000           nan     0.000000                 nan   \n",
       "1         76.918000           nan     9.000000          636.341383   \n",
       "2         73.131000      0.420095     2.000000          590.509814   \n",
       "3               nan           nan          nan                 nan   \n",
       "4         51.093000           nan    -2.000000          172.999227   \n",
       "..              ...           ...          ...                 ...   \n",
       "208       75.181000           nan    -7.000000          302.725655   \n",
       "209       72.832000           nan          nan                 nan   \n",
       "210       65.493000           nan    -2.000000          130.057831   \n",
       "211       49.025000           nan     7.000000          168.623031   \n",
       "212       51.384000           nan     1.000000          297.883200   \n",
       "\n",
       "     suicideper100th  employrate  urbanrate             country  \n",
       "0           6.684385   55.700001  24.040000         Afghanistan  \n",
       "1           7.699330   51.400002  46.720000             Albania  \n",
       "2           4.848770   50.500000  65.220000             Algeria  \n",
       "3           5.362179         nan  88.920000             Andorra  \n",
       "4          14.554677   75.699997  56.700000              Angola  \n",
       "..               ...         ...        ...                 ...  \n",
       "208        11.653322   71.000000  27.840000             Vietnam  \n",
       "209              nan   32.000000  71.900000  West Bank and Gaza  \n",
       "210         6.265789   39.000000  30.640000         Yemen, Rep.  \n",
       "211        12.019036   61.000000  35.420000              Zambia  \n",
       "212        13.905267   66.800003  37.340000            Zimbabwe  \n",
       "\n",
       "[213 rows x 16 columns]"
      ],
      "text/html": "<div>\n<style scoped>\n    .dataframe tbody tr th:only-of-type {\n        vertical-align: middle;\n    }\n\n    .dataframe tbody tr th {\n        vertical-align: top;\n    }\n\n    .dataframe thead th {\n        text-align: right;\n    }\n</style>\n<table border=\"1\" class=\"dataframe\">\n  <thead>\n    <tr style=\"text-align: right;\">\n      <th></th>\n      <th>incomeperperson</th>\n      <th>alcconsumption</th>\n      <th>armedforcesrate</th>\n      <th>breastcancerper100th</th>\n      <th>co2emissions</th>\n      <th>femaleemployrate</th>\n      <th>hivrate</th>\n      <th>internetuserate</th>\n      <th>lifeexpectancy</th>\n      <th>oilperperson</th>\n      <th>polityscore</th>\n      <th>relectricperperson</th>\n      <th>suicideper100th</th>\n      <th>employrate</th>\n      <th>urbanrate</th>\n      <th>country</th>\n    </tr>\n  </thead>\n  <tbody>\n    <tr>\n      <th>0</th>\n      <td>nan</td>\n      <td>0.030000</td>\n      <td>0.569653</td>\n      <td>26.800000</td>\n      <td>75944000.000000</td>\n      <td>25.600000</td>\n      <td>nan</td>\n      <td>3.654122</td>\n      <td>48.673000</td>\n      <td>nan</td>\n      <td>0.000000</td>\n      <td>nan</td>\n      <td>6.684385</td>\n      <td>55.700001</td>\n      <td>24.040000</td>\n      <td>Afghanistan</td>\n    </tr>\n    <tr>\n      <th>1</th>\n      <td>1914.996551</td>\n      <td>7.290000</td>\n      <td>1.024736</td>\n      <td>57.400000</td>\n      <td>223747333.333333</td>\n      <td>42.099998</td>\n      <td>nan</td>\n      <td>44.989947</td>\n      <td>76.918000</td>\n      <td>nan</td>\n      <td>9.000000</td>\n      <td>636.341383</td>\n      <td>7.699330</td>\n      <td>51.400002</td>\n      <td>46.720000</td>\n      <td>Albania</td>\n    </tr>\n    <tr>\n      <th>2</th>\n      <td>2231.993335</td>\n      <td>0.690000</td>\n      <td>2.306817</td>\n      <td>23.500000</td>\n      <td>2932108666.666670</td>\n      <td>31.700001</td>\n      <td>0.100000</td>\n      <td>12.500073</td>\n      <td>73.131000</td>\n      <td>0.420095</td>\n      <td>2.000000</td>\n      <td>590.509814</td>\n      <td>4.848770</td>\n      <td>50.500000</td>\n      <td>65.220000</td>\n      <td>Algeria</td>\n    </tr>\n    <tr>\n      <th>3</th>\n      <td>21943.339898</td>\n      <td>10.170000</td>\n      <td>nan</td>\n      <td>nan</td>\n      <td>nan</td>\n      <td>nan</td>\n      <td>nan</td>\n      <td>81.000000</td>\n      <td>nan</td>\n      <td>nan</td>\n      <td>nan</td>\n      <td>nan</td>\n      <td>5.362179</td>\n      <td>nan</td>\n      <td>88.920000</td>\n      <td>Andorra</td>\n    </tr>\n    <tr>\n      <th>4</th>\n      <td>1381.004268</td>\n      <td>5.570000</td>\n      <td>1.461329</td>\n      <td>23.100000</td>\n      <td>248358000.000000</td>\n      <td>69.400002</td>\n      <td>2.000000</td>\n      <td>9.999954</td>\n      <td>51.093000</td>\n      <td>nan</td>\n      <td>-2.000000</td>\n      <td>172.999227</td>\n      <td>14.554677</td>\n      <td>75.699997</td>\n      <td>56.700000</td>\n      <td>Angola</td>\n    </tr>\n    <tr>\n      <th>...</th>\n      <td>...</td>\n      <td>...</td>\n      <td>...</td>\n      <td>...</td>\n      <td>...</td>\n      <td>...</td>\n      <td>...</td>\n      <td>...</td>\n      <td>...</td>\n      <td>...</td>\n      <td>...</td>\n      <td>...</td>\n      <td>...</td>\n      <td>...</td>\n      <td>...</td>\n      <td>...</td>\n    </tr>\n    <tr>\n      <th>208</th>\n      <td>722.807559</td>\n      <td>3.910000</td>\n      <td>1.085367</td>\n      <td>16.200000</td>\n      <td>1425435000.000000</td>\n      <td>67.599998</td>\n      <td>0.400000</td>\n      <td>27.851822</td>\n      <td>75.181000</td>\n      <td>nan</td>\n      <td>-7.000000</td>\n      <td>302.725655</td>\n      <td>11.653322</td>\n      <td>71.000000</td>\n      <td>27.840000</td>\n      <td>Vietnam</td>\n    </tr>\n    <tr>\n      <th>209</th>\n      <td>nan</td>\n      <td>nan</td>\n      <td>5.936085</td>\n      <td>nan</td>\n      <td>14241333.333333</td>\n      <td>11.300000</td>\n      <td>nan</td>\n      <td>36.422772</td>\n      <td>72.832000</td>\n      <td>nan</td>\n      <td>nan</td>\n      <td>nan</td>\n      <td>nan</td>\n      <td>32.000000</td>\n      <td>71.900000</td>\n      <td>West Bank and Gaza</td>\n    </tr>\n    <tr>\n      <th>210</th>\n      <td>610.357367</td>\n      <td>0.200000</td>\n      <td>2.316235</td>\n      <td>35.100000</td>\n      <td>234864666.666667</td>\n      <td>20.299999</td>\n      <td>nan</td>\n      <td>12.349750</td>\n      <td>65.493000</td>\n      <td>nan</td>\n      <td>-2.000000</td>\n      <td>130.057831</td>\n      <td>6.265789</td>\n      <td>39.000000</td>\n      <td>30.640000</td>\n      <td>Yemen, Rep.</td>\n    </tr>\n    <tr>\n      <th>211</th>\n      <td>432.226337</td>\n      <td>3.560000</td>\n      <td>0.341335</td>\n      <td>13.000000</td>\n      <td>132025666.666667</td>\n      <td>53.500000</td>\n      <td>13.500000</td>\n      <td>10.124986</td>\n      <td>49.025000</td>\n      <td>nan</td>\n      <td>7.000000</td>\n      <td>168.623031</td>\n      <td>12.019036</td>\n      <td>61.000000</td>\n      <td>35.420000</td>\n      <td>Zambia</td>\n    </tr>\n    <tr>\n      <th>212</th>\n      <td>320.771890</td>\n      <td>4.960000</td>\n      <td>1.032785</td>\n      <td>19.000000</td>\n      <td>590219666.666666</td>\n      <td>58.099998</td>\n      <td>14.300000</td>\n      <td>11.500415</td>\n      <td>51.384000</td>\n      <td>nan</td>\n      <td>1.000000</td>\n      <td>297.883200</td>\n      <td>13.905267</td>\n      <td>66.800003</td>\n      <td>37.340000</td>\n      <td>Zimbabwe</td>\n    </tr>\n  </tbody>\n</table>\n<p>213 rows × 16 columns</p>\n</div>"
     },
     "metadata": {},
     "execution_count": 5
    }
   ],
   "source": [
    "# Convert columns from strings to numeric\n",
    "columns = ['incomeperperson', 'alcconsumption', 'armedforcesrate', 'breastcancerper100th', 'co2emissions', 'femaleemployrate', 'hivrate', 'internetuserate', 'lifeexpectancy', 'oilperperson', 'polityscore', 'relectricperperson', 'suicideper100th', 'employrate', 'urbanrate']\n",
    "data = df[columns].apply(pd.to_numeric, errors='coerce')\n",
    "data['country'] = df['country']\n",
    "data"
   ]
  },
  {
   "cell_type": "code",
   "execution_count": 6,
   "metadata": {},
   "outputs": [
    {
     "output_type": "stream",
     "name": "stdout",
     "text": [
      "internetuserate 21\nincomeperperson 23\nlifeexpectancy 22\nbreastcancerper100th 40\n"
     ]
    }
   ],
   "source": [
    "#Number of null values per variable\n",
    "listinternet = data['internetuserate']\n",
    "print(\"internetuserate\", np.sum(listinternet.isnull()))\n",
    "listIncomes = data['incomeperperson']\n",
    "print(\"incomeperperson\", np.sum(listIncomes.isnull()))\n",
    "listLife = data['lifeexpectancy']\n",
    "print(\"lifeexpectancy\", np.sum(listLife.isnull()))\n",
    "listCancer = data['breastcancerper100th']\n",
    "print(\"breastcancerper100th\", np.sum(listCancer.isnull()))"
   ]
  },
  {
   "cell_type": "code",
   "execution_count": 7,
   "metadata": {},
   "outputs": [
    {
     "output_type": "execute_result",
     "data": {
      "text/plain": [
       "count      190.000000\n",
       "mean      8740.966076\n",
       "std      14262.809083\n",
       "min        103.775857\n",
       "25%        748.245151\n",
       "50%       2553.496056\n",
       "75%       9379.891165\n",
       "max     105147.437697\n",
       "Name: incomeperperson, dtype: float64"
      ]
     },
     "metadata": {},
     "execution_count": 7
    }
   ],
   "source": [
    "# Statistics summary about the incomeperperson\n",
    "data['incomeperperson'].describe()"
   ]
  },
  {
   "source": [
    "## Limit Data"
   ],
   "cell_type": "markdown",
   "metadata": {}
  },
  {
   "cell_type": "code",
   "execution_count": 22,
   "metadata": {},
   "outputs": [],
   "source": [
    "#Countries with lowest incomes\n",
    "lowestData = data[data['incomeperperson'] < 749]"
   ]
  },
  {
   "cell_type": "code",
   "execution_count": 9,
   "metadata": {},
   "outputs": [],
   "source": [
    "#Countries with the hieghest incomes\n",
    "highestData = data[data['incomeperperson'] > 9379]"
   ]
  },
  {
   "source": [
    "## Life Expectancy "
   ],
   "cell_type": "markdown",
   "metadata": {}
  },
  {
   "source": [
    "### Lowest Incomes"
   ],
   "cell_type": "markdown",
   "metadata": {}
  },
  {
   "cell_type": "code",
   "execution_count": 19,
   "metadata": {},
   "outputs": [],
   "source": [
    "#Create dataframe to store values \n",
    "lifeL = pd.DataFrame() \n",
    "lifeL['value'] = ['(47.7, 50.5]  ', '(50.5, 53.2]', '(53.2, 56]', '(56, 58.7]', '(58.7, 61.4]', \n",
    "'(61.4, 64.2]', '(64.2, 66.9]', '(66.9, 69.7]', '(69.7, 72.4]', '(72.4, 75.1]']"
   ]
  },
  {
   "cell_type": "code",
   "execution_count": 23,
   "metadata": {},
   "outputs": [],
   "source": [
    "# frequency and percentage distritions for lifeexpectancy with lower incomes\n",
    "cLifeL = lowestData['lifeexpectancy'].value_counts(sort=False,bins=10)\n",
    "pLifeL = lowestData['lifeexpectancy'].value_counts(sort=False,bins=10,normalize=True)*100\n",
    "\n",
    "# add values to dataframe \n",
    "lifeL['freq'] = cLifeL.tolist()\n",
    "lifeL['percent'] = pLifeL.tolist()\n",
    "\n",
    "#cumulative frequency and cumulative percentage for lifeexpectancy with lower incomes\n",
    "lifeL['cum freq'] = lifeL['freq'].cumsum()\n",
    "lifeL['cum percent'] = lifeL['percent'].cumsum()"
   ]
  },
  {
   "cell_type": "code",
   "execution_count": 12,
   "metadata": {},
   "outputs": [
    {
     "output_type": "execute_result",
     "data": {
      "text/plain": [
       "            value  freq   percent  cum freq  cum percent\n",
       "0  (47.7, 50.5]       9 18.750000         9    18.750000\n",
       "1    (50.5, 53.2]     4  8.333333        13    27.083333\n",
       "2      (53.2, 56]     7 14.583333        20    41.666667\n",
       "3      (56, 58.7]     7 14.583333        27    56.250000\n",
       "4    (58.7, 61.4]     4  8.333333        31    64.583333\n",
       "5    (61.4, 64.2]     5 10.416667        36    75.000000\n",
       "6    (64.2, 66.9]     4  8.333333        40    83.333333\n",
       "7    (66.9, 69.7]     7 14.583333        47    97.916667\n",
       "8    (69.7, 72.4]     0  0.000000        47    97.916667\n",
       "9    (72.4, 75.1]     1  2.083333        48   100.000000"
      ],
      "text/html": "<div>\n<style scoped>\n    .dataframe tbody tr th:only-of-type {\n        vertical-align: middle;\n    }\n\n    .dataframe tbody tr th {\n        vertical-align: top;\n    }\n\n    .dataframe thead th {\n        text-align: right;\n    }\n</style>\n<table border=\"1\" class=\"dataframe\">\n  <thead>\n    <tr style=\"text-align: right;\">\n      <th></th>\n      <th>value</th>\n      <th>freq</th>\n      <th>percent</th>\n      <th>cum freq</th>\n      <th>cum percent</th>\n    </tr>\n  </thead>\n  <tbody>\n    <tr>\n      <th>0</th>\n      <td>(47.7, 50.5]</td>\n      <td>9</td>\n      <td>18.750000</td>\n      <td>9</td>\n      <td>18.750000</td>\n    </tr>\n    <tr>\n      <th>1</th>\n      <td>(50.5, 53.2]</td>\n      <td>4</td>\n      <td>8.333333</td>\n      <td>13</td>\n      <td>27.083333</td>\n    </tr>\n    <tr>\n      <th>2</th>\n      <td>(53.2, 56]</td>\n      <td>7</td>\n      <td>14.583333</td>\n      <td>20</td>\n      <td>41.666667</td>\n    </tr>\n    <tr>\n      <th>3</th>\n      <td>(56, 58.7]</td>\n      <td>7</td>\n      <td>14.583333</td>\n      <td>27</td>\n      <td>56.250000</td>\n    </tr>\n    <tr>\n      <th>4</th>\n      <td>(58.7, 61.4]</td>\n      <td>4</td>\n      <td>8.333333</td>\n      <td>31</td>\n      <td>64.583333</td>\n    </tr>\n    <tr>\n      <th>5</th>\n      <td>(61.4, 64.2]</td>\n      <td>5</td>\n      <td>10.416667</td>\n      <td>36</td>\n      <td>75.000000</td>\n    </tr>\n    <tr>\n      <th>6</th>\n      <td>(64.2, 66.9]</td>\n      <td>4</td>\n      <td>8.333333</td>\n      <td>40</td>\n      <td>83.333333</td>\n    </tr>\n    <tr>\n      <th>7</th>\n      <td>(66.9, 69.7]</td>\n      <td>7</td>\n      <td>14.583333</td>\n      <td>47</td>\n      <td>97.916667</td>\n    </tr>\n    <tr>\n      <th>8</th>\n      <td>(69.7, 72.4]</td>\n      <td>0</td>\n      <td>0.000000</td>\n      <td>47</td>\n      <td>97.916667</td>\n    </tr>\n    <tr>\n      <th>9</th>\n      <td>(72.4, 75.1]</td>\n      <td>1</td>\n      <td>2.083333</td>\n      <td>48</td>\n      <td>100.000000</td>\n    </tr>\n  </tbody>\n</table>\n</div>"
     },
     "metadata": {},
     "execution_count": 12
    }
   ],
   "source": [
    "lifeL"
   ]
  },
  {
   "source": [
    "### Highest Incomes"
   ],
   "cell_type": "markdown",
   "metadata": {}
  },
  {
   "cell_type": "code",
   "execution_count": 13,
   "metadata": {},
   "outputs": [],
   "source": [
    "#Create dataframe to store values \n",
    "lifeH = pd.DataFrame() \n",
    "lifeH['value'] = [ '(70.1, 71.4]', '(71.4, 72.7]', '(72.7, 74.1]', '(74.1, 75.4]', '(75.4, 76.7]', '(76.7, 78]', '(78, 79.4]', '(79.4, 80.7]', '(80.7, 82]', '(82, 83.3]' ]"
   ]
  },
  {
   "cell_type": "code",
   "execution_count": 14,
   "metadata": {},
   "outputs": [],
   "source": [
    "# frequency and percentage distritions for lifeexpectancy with higher incomes\n",
    "cLifeH = highestData['lifeexpectancy'].value_counts(sort=False,bins=10)\n",
    "pLifeH = highestData['lifeexpectancy'].value_counts(sort=False,bins=10,normalize=True)*100\n",
    "\n",
    "# add values to dataframe \n",
    "lifeH['freq'] = cLifeH.tolist()\n",
    "lifeH['percent'] = pLifeH.tolist()\n",
    "\n",
    "#cumulative frequency and cumulative percentage for lifeexpectancy with lower incomes\n",
    "lifeH['cum freq'] = lifeH['freq'].cumsum()\n",
    "lifeH['cum percent'] = lifeH['percent'].cumsum()"
   ]
  },
  {
   "cell_type": "code",
   "execution_count": 15,
   "metadata": {},
   "outputs": [
    {
     "output_type": "execute_result",
     "data": {
      "text/plain": [
       "          value  freq   percent  cum freq  cum percent\n",
       "0  (70.1, 71.4]     1  2.083333         1     2.083333\n",
       "1  (71.4, 72.7]     0  0.000000         1     2.083333\n",
       "2  (72.7, 74.1]     2  4.166667         3     6.250000\n",
       "3  (74.1, 75.4]     1  2.083333         4     8.333333\n",
       "4  (75.4, 76.7]     3  6.250000         7    14.583333\n",
       "5    (76.7, 78]     1  2.083333         8    16.666667\n",
       "6    (78, 79.4]     5 10.416667        13    27.083333\n",
       "7  (79.4, 80.7]    13 27.083333        26    54.166667\n",
       "8    (80.7, 82]    12 25.000000        38    79.166667\n",
       "9    (82, 83.3]     3  6.250000        41    85.416667"
      ],
      "text/html": "<div>\n<style scoped>\n    .dataframe tbody tr th:only-of-type {\n        vertical-align: middle;\n    }\n\n    .dataframe tbody tr th {\n        vertical-align: top;\n    }\n\n    .dataframe thead th {\n        text-align: right;\n    }\n</style>\n<table border=\"1\" class=\"dataframe\">\n  <thead>\n    <tr style=\"text-align: right;\">\n      <th></th>\n      <th>value</th>\n      <th>freq</th>\n      <th>percent</th>\n      <th>cum freq</th>\n      <th>cum percent</th>\n    </tr>\n  </thead>\n  <tbody>\n    <tr>\n      <th>0</th>\n      <td>(70.1, 71.4]</td>\n      <td>1</td>\n      <td>2.083333</td>\n      <td>1</td>\n      <td>2.083333</td>\n    </tr>\n    <tr>\n      <th>1</th>\n      <td>(71.4, 72.7]</td>\n      <td>0</td>\n      <td>0.000000</td>\n      <td>1</td>\n      <td>2.083333</td>\n    </tr>\n    <tr>\n      <th>2</th>\n      <td>(72.7, 74.1]</td>\n      <td>2</td>\n      <td>4.166667</td>\n      <td>3</td>\n      <td>6.250000</td>\n    </tr>\n    <tr>\n      <th>3</th>\n      <td>(74.1, 75.4]</td>\n      <td>1</td>\n      <td>2.083333</td>\n      <td>4</td>\n      <td>8.333333</td>\n    </tr>\n    <tr>\n      <th>4</th>\n      <td>(75.4, 76.7]</td>\n      <td>3</td>\n      <td>6.250000</td>\n      <td>7</td>\n      <td>14.583333</td>\n    </tr>\n    <tr>\n      <th>5</th>\n      <td>(76.7, 78]</td>\n      <td>1</td>\n      <td>2.083333</td>\n      <td>8</td>\n      <td>16.666667</td>\n    </tr>\n    <tr>\n      <th>6</th>\n      <td>(78, 79.4]</td>\n      <td>5</td>\n      <td>10.416667</td>\n      <td>13</td>\n      <td>27.083333</td>\n    </tr>\n    <tr>\n      <th>7</th>\n      <td>(79.4, 80.7]</td>\n      <td>13</td>\n      <td>27.083333</td>\n      <td>26</td>\n      <td>54.166667</td>\n    </tr>\n    <tr>\n      <th>8</th>\n      <td>(80.7, 82]</td>\n      <td>12</td>\n      <td>25.000000</td>\n      <td>38</td>\n      <td>79.166667</td>\n    </tr>\n    <tr>\n      <th>9</th>\n      <td>(82, 83.3]</td>\n      <td>3</td>\n      <td>6.250000</td>\n      <td>41</td>\n      <td>85.416667</td>\n    </tr>\n  </tbody>\n</table>\n</div>"
     },
     "metadata": {},
     "execution_count": 15
    }
   ],
   "source": [
    "lifeH"
   ]
  },
  {
   "source": [
    "## Internet Use Rate"
   ],
   "cell_type": "markdown",
   "metadata": {}
  },
  {
   "source": [
    "### Lowest Incomes"
   ],
   "cell_type": "markdown",
   "metadata": {}
  },
  {
   "cell_type": "code",
   "execution_count": 16,
   "metadata": {},
   "outputs": [],
   "source": [
    "#Create dataframe to store values \n",
    "lifeL = pd.DataFrame() \n",
    "lifeL['value'] = [ '(0.1, 4.2]', '(4.2, 8.1]', '(8.1, 12.1]', '(12.1, 16.1]', '(16.1, 20.1]', '(20.1, 24.1]', '(24.1, 28.1]', '(28.1, 32.1]', '(32.1, 36.1]', '(36.1, 40.1]' ]"
   ]
  },
  {
   "cell_type": "code",
   "execution_count": 17,
   "metadata": {},
   "outputs": [
    {
     "output_type": "error",
     "ename": "NameError",
     "evalue": "name 'internetL' is not defined",
     "traceback": [
      "\u001b[0;31m---------------------------------------------------------------------------\u001b[0m",
      "\u001b[0;31mNameError\u001b[0m                                 Traceback (most recent call last)",
      "\u001b[0;32m<ipython-input-17-687d0ba8e6e4>\u001b[0m in \u001b[0;36m<module>\u001b[0;34m\u001b[0m\n\u001b[1;32m      4\u001b[0m \u001b[0;34m\u001b[0m\u001b[0m\n\u001b[1;32m      5\u001b[0m \u001b[0;31m# add values to dataframe\u001b[0m\u001b[0;34m\u001b[0m\u001b[0;34m\u001b[0m\u001b[0;34m\u001b[0m\u001b[0m\n\u001b[0;32m----> 6\u001b[0;31m \u001b[0minternetL\u001b[0m\u001b[0;34m[\u001b[0m\u001b[0;34m'freq'\u001b[0m\u001b[0;34m]\u001b[0m \u001b[0;34m=\u001b[0m \u001b[0mcInternetL\u001b[0m\u001b[0;34m.\u001b[0m\u001b[0mtolist\u001b[0m\u001b[0;34m(\u001b[0m\u001b[0;34m)\u001b[0m\u001b[0;34m\u001b[0m\u001b[0;34m\u001b[0m\u001b[0m\n\u001b[0m\u001b[1;32m      7\u001b[0m \u001b[0minternetL\u001b[0m\u001b[0;34m[\u001b[0m\u001b[0;34m'percent'\u001b[0m\u001b[0;34m]\u001b[0m \u001b[0;34m=\u001b[0m \u001b[0mpInternetL\u001b[0m\u001b[0;34m.\u001b[0m\u001b[0mtolist\u001b[0m\u001b[0;34m(\u001b[0m\u001b[0;34m)\u001b[0m\u001b[0;34m\u001b[0m\u001b[0;34m\u001b[0m\u001b[0m\n\u001b[1;32m      8\u001b[0m \u001b[0;34m\u001b[0m\u001b[0m\n",
      "\u001b[0;31mNameError\u001b[0m: name 'internetL' is not defined"
     ]
    }
   ],
   "source": [
    "# frequency and percentage distritions for a number of internetuserate with lower incomes\n",
    "cInternetL = lowestData['internetuserate'].value_counts(sort=False,bins=10)\n",
    "pInternetL = lowestData['internetuserate'].value_counts(sort=False,bins=10,normalize=True)*100\n",
    "\n",
    "# add values to dataframe \n",
    "internetL['freq'] = cInternetL.tolist()\n",
    "internetL['percent'] = pInternetL.tolist()\n",
    "\n",
    "#cumulative frequency and cumulative percentage for internetuserate with lower incomes\n",
    "internetL['cum freq'] = internetL['freq'].cumsum()\n",
    "internetL['cum percent'] = internetL['percent'].cumsum()"
   ]
  },
  {
   "cell_type": "code",
   "execution_count": 98,
   "metadata": {},
   "outputs": [
    {
     "output_type": "execute_result",
     "data": {
      "text/plain": [
       "          value  freq   percent  cum freq  cum percent\n",
       "0    (0.1, 4.2]    23 47.916667        23    47.916667\n",
       "1    (4.2, 8.1]     6 12.500000        29    60.416667\n",
       "2   (8.1, 12.1]     7 14.583333        36    75.000000\n",
       "3  (12.1, 16.1]     4  8.333333        40    83.333333\n",
       "4  (16.1, 20.1]     2  4.166667        42    87.500000\n",
       "5  (20.1, 24.1]     0  0.000000        42    87.500000\n",
       "6  (24.1, 28.1]     2  4.166667        44    91.666667\n",
       "7  (28.1, 32.1]     1  2.083333        45    93.750000\n",
       "8  (32.1, 36.1]     0  0.000000        45    93.750000\n",
       "9  (36.1, 40.1]     1  2.083333        46    95.833333"
      ],
      "text/html": "<div>\n<style scoped>\n    .dataframe tbody tr th:only-of-type {\n        vertical-align: middle;\n    }\n\n    .dataframe tbody tr th {\n        vertical-align: top;\n    }\n\n    .dataframe thead th {\n        text-align: right;\n    }\n</style>\n<table border=\"1\" class=\"dataframe\">\n  <thead>\n    <tr style=\"text-align: right;\">\n      <th></th>\n      <th>value</th>\n      <th>freq</th>\n      <th>percent</th>\n      <th>cum freq</th>\n      <th>cum percent</th>\n    </tr>\n  </thead>\n  <tbody>\n    <tr>\n      <th>0</th>\n      <td>(0.1, 4.2]</td>\n      <td>23</td>\n      <td>47.916667</td>\n      <td>23</td>\n      <td>47.916667</td>\n    </tr>\n    <tr>\n      <th>1</th>\n      <td>(4.2, 8.1]</td>\n      <td>6</td>\n      <td>12.500000</td>\n      <td>29</td>\n      <td>60.416667</td>\n    </tr>\n    <tr>\n      <th>2</th>\n      <td>(8.1, 12.1]</td>\n      <td>7</td>\n      <td>14.583333</td>\n      <td>36</td>\n      <td>75.000000</td>\n    </tr>\n    <tr>\n      <th>3</th>\n      <td>(12.1, 16.1]</td>\n      <td>4</td>\n      <td>8.333333</td>\n      <td>40</td>\n      <td>83.333333</td>\n    </tr>\n    <tr>\n      <th>4</th>\n      <td>(16.1, 20.1]</td>\n      <td>2</td>\n      <td>4.166667</td>\n      <td>42</td>\n      <td>87.500000</td>\n    </tr>\n    <tr>\n      <th>5</th>\n      <td>(20.1, 24.1]</td>\n      <td>0</td>\n      <td>0.000000</td>\n      <td>42</td>\n      <td>87.500000</td>\n    </tr>\n    <tr>\n      <th>6</th>\n      <td>(24.1, 28.1]</td>\n      <td>2</td>\n      <td>4.166667</td>\n      <td>44</td>\n      <td>91.666667</td>\n    </tr>\n    <tr>\n      <th>7</th>\n      <td>(28.1, 32.1]</td>\n      <td>1</td>\n      <td>2.083333</td>\n      <td>45</td>\n      <td>93.750000</td>\n    </tr>\n    <tr>\n      <th>8</th>\n      <td>(32.1, 36.1]</td>\n      <td>0</td>\n      <td>0.000000</td>\n      <td>45</td>\n      <td>93.750000</td>\n    </tr>\n    <tr>\n      <th>9</th>\n      <td>(36.1, 40.1]</td>\n      <td>1</td>\n      <td>2.083333</td>\n      <td>46</td>\n      <td>95.833333</td>\n    </tr>\n  </tbody>\n</table>\n</div>"
     },
     "metadata": {},
     "execution_count": 98
    }
   ],
   "source": [
    "internetL"
   ]
  },
  {
   "source": [
    "### Highest Incomes"
   ],
   "cell_type": "markdown",
   "metadata": {}
  },
  {
   "cell_type": "code",
   "execution_count": 102,
   "metadata": {},
   "outputs": [],
   "source": [
    "#Create dataframe to store values \n",
    "lifeH = pd.DataFrame() \n",
    "lifeH['value'] = [ '(35.9, 41.9]', '(41.9, 47.9]', '(47.9, 53.8]', '(53.8, 59.8]', '(59.8, 65.8]', '(65.8, 71.7]', '(71.7, 77.7]', '(77.7, 83.7]', '(83.7, 89.6]', '(89.6, 95.6]' ]"
   ]
  },
  {
   "cell_type": "code",
   "execution_count": 103,
   "metadata": {},
   "outputs": [],
   "source": [
    "# frequency and percentage distritions for internetuserate with higher incomes\n",
    "cInternetH = highestData['internetuserate'].value_counts(sort=False,bins=10)\n",
    "pInternetH = highestData['internetuserate'].value_counts(sort=False,bins=10,normalize=True)*100\n",
    "\n",
    "# add values to dataframe \n",
    "internetH['freq'] = cInternetH.tolist()\n",
    "internetH['percent'] = pInternetH.tolist()\n",
    "\n",
    "#cumulative frequency and cumulative percentage for internetuserate with lower incomes\n",
    "internetH['cum freq'] = internetH['freq'].cumsum()\n",
    "internetH['cum percent'] = internetH['percent'].cumsum()"
   ]
  },
  {
   "cell_type": "code",
   "execution_count": 104,
   "metadata": {},
   "outputs": [
    {
     "output_type": "execute_result",
     "data": {
      "text/plain": [
       "          value  freq   percent  cum freq  cum percent\n",
       "0    (0.1, 4.2]     2  4.166667         2     4.166667\n",
       "1    (4.2, 8.1]     3  6.250000         5    10.416667\n",
       "2   (8.1, 12.1]     5 10.416667        10    20.833333\n",
       "3  (12.1, 16.1]     2  4.166667        12    25.000000\n",
       "4  (16.1, 20.1]     5 10.416667        17    35.416667\n",
       "5  (20.1, 24.1]     3  6.250000        20    41.666667\n",
       "6  (24.1, 28.1]     7 14.583333        27    56.250000\n",
       "7  (28.1, 32.1]    10 20.833333        37    77.083333\n",
       "8  (32.1, 36.1]     4  8.333333        41    85.416667\n",
       "9  (36.1, 40.1]     5 10.416667        46    95.833333"
      ],
      "text/html": "<div>\n<style scoped>\n    .dataframe tbody tr th:only-of-type {\n        vertical-align: middle;\n    }\n\n    .dataframe tbody tr th {\n        vertical-align: top;\n    }\n\n    .dataframe thead th {\n        text-align: right;\n    }\n</style>\n<table border=\"1\" class=\"dataframe\">\n  <thead>\n    <tr style=\"text-align: right;\">\n      <th></th>\n      <th>value</th>\n      <th>freq</th>\n      <th>percent</th>\n      <th>cum freq</th>\n      <th>cum percent</th>\n    </tr>\n  </thead>\n  <tbody>\n    <tr>\n      <th>0</th>\n      <td>(0.1, 4.2]</td>\n      <td>2</td>\n      <td>4.166667</td>\n      <td>2</td>\n      <td>4.166667</td>\n    </tr>\n    <tr>\n      <th>1</th>\n      <td>(4.2, 8.1]</td>\n      <td>3</td>\n      <td>6.250000</td>\n      <td>5</td>\n      <td>10.416667</td>\n    </tr>\n    <tr>\n      <th>2</th>\n      <td>(8.1, 12.1]</td>\n      <td>5</td>\n      <td>10.416667</td>\n      <td>10</td>\n      <td>20.833333</td>\n    </tr>\n    <tr>\n      <th>3</th>\n      <td>(12.1, 16.1]</td>\n      <td>2</td>\n      <td>4.166667</td>\n      <td>12</td>\n      <td>25.000000</td>\n    </tr>\n    <tr>\n      <th>4</th>\n      <td>(16.1, 20.1]</td>\n      <td>5</td>\n      <td>10.416667</td>\n      <td>17</td>\n      <td>35.416667</td>\n    </tr>\n    <tr>\n      <th>5</th>\n      <td>(20.1, 24.1]</td>\n      <td>3</td>\n      <td>6.250000</td>\n      <td>20</td>\n      <td>41.666667</td>\n    </tr>\n    <tr>\n      <th>6</th>\n      <td>(24.1, 28.1]</td>\n      <td>7</td>\n      <td>14.583333</td>\n      <td>27</td>\n      <td>56.250000</td>\n    </tr>\n    <tr>\n      <th>7</th>\n      <td>(28.1, 32.1]</td>\n      <td>10</td>\n      <td>20.833333</td>\n      <td>37</td>\n      <td>77.083333</td>\n    </tr>\n    <tr>\n      <th>8</th>\n      <td>(32.1, 36.1]</td>\n      <td>4</td>\n      <td>8.333333</td>\n      <td>41</td>\n      <td>85.416667</td>\n    </tr>\n    <tr>\n      <th>9</th>\n      <td>(36.1, 40.1]</td>\n      <td>5</td>\n      <td>10.416667</td>\n      <td>46</td>\n      <td>95.833333</td>\n    </tr>\n  </tbody>\n</table>\n</div>"
     },
     "metadata": {},
     "execution_count": 104
    }
   ],
   "source": [
    "internetH"
   ]
  },
  {
   "source": [
    "## Breast Cancer"
   ],
   "cell_type": "markdown",
   "metadata": {}
  },
  {
   "source": [
    "### Lowest Incomes "
   ],
   "cell_type": "markdown",
   "metadata": {}
  },
  {
   "cell_type": "code",
   "execution_count": 108,
   "metadata": {},
   "outputs": [],
   "source": [
    "#Create dataframe to store values \n",
    "cancerL = pd.DataFrame() \n",
    "cancerL['value'] = [ '(3.8, 8.5]', '(8.5, 13.1]', '(13.1, 17.7]', '(17.7, 22.3]', '(22.3, 27]', '(27, 31.6]', '(31.6, 36.2]', '(36.2, 40.8]', '(40.8, 45.4]', '(45.4, 50.1]' ]"
   ]
  },
  {
   "cell_type": "code",
   "execution_count": 109,
   "metadata": {},
   "outputs": [],
   "source": [
    "# frequency and percentage distritions for a number of breastcancerper100th with lower incomes\n",
    "cCancerL = lowestData['breastcancerper100th'].value_counts(sort=False,bins=10)\n",
    "pCancerL = lowestData['breastcancerper100th'].value_counts(sort=False,bins=10,normalize=True)*100\n",
    "\n",
    "# add values to dataframe \n",
    "cancerL['freq'] = cCancerL.tolist()\n",
    "cancerL['percent'] = pCancerL.tolist()\n",
    "\n",
    "#cumulative frequency and cumulative percentage for breastcancerper100th with lower incomes\n",
    "cancerL['cum freq'] = cancerL['freq'].cumsum()\n",
    "cancerL['cum percent'] = cancerL['percent'].cumsum()"
   ]
  },
  {
   "cell_type": "code",
   "execution_count": 110,
   "metadata": {},
   "outputs": [
    {
     "output_type": "execute_result",
     "data": {
      "text/plain": [
       "          value  freq   percent  cum freq  cum percent\n",
       "0    (3.8, 8.5]     3  6.250000         3     6.250000\n",
       "1   (8.5, 13.1]     6 12.500000         9    18.750000\n",
       "2  (13.1, 17.7]     7 14.583333        16    33.333333\n",
       "3  (17.7, 22.3]    12 25.000000        28    58.333333\n",
       "4    (22.3, 27]     6 12.500000        34    70.833333\n",
       "5    (27, 31.6]     9 18.750000        43    89.583333\n",
       "6  (31.6, 36.2]     2  4.166667        45    93.750000\n",
       "7  (36.2, 40.8]     0  0.000000        45    93.750000\n",
       "8  (40.8, 45.4]     0  0.000000        45    93.750000\n",
       "9  (45.4, 50.1]     2  4.166667        47    97.916667"
      ],
      "text/html": "<div>\n<style scoped>\n    .dataframe tbody tr th:only-of-type {\n        vertical-align: middle;\n    }\n\n    .dataframe tbody tr th {\n        vertical-align: top;\n    }\n\n    .dataframe thead th {\n        text-align: right;\n    }\n</style>\n<table border=\"1\" class=\"dataframe\">\n  <thead>\n    <tr style=\"text-align: right;\">\n      <th></th>\n      <th>value</th>\n      <th>freq</th>\n      <th>percent</th>\n      <th>cum freq</th>\n      <th>cum percent</th>\n    </tr>\n  </thead>\n  <tbody>\n    <tr>\n      <th>0</th>\n      <td>(3.8, 8.5]</td>\n      <td>3</td>\n      <td>6.250000</td>\n      <td>3</td>\n      <td>6.250000</td>\n    </tr>\n    <tr>\n      <th>1</th>\n      <td>(8.5, 13.1]</td>\n      <td>6</td>\n      <td>12.500000</td>\n      <td>9</td>\n      <td>18.750000</td>\n    </tr>\n    <tr>\n      <th>2</th>\n      <td>(13.1, 17.7]</td>\n      <td>7</td>\n      <td>14.583333</td>\n      <td>16</td>\n      <td>33.333333</td>\n    </tr>\n    <tr>\n      <th>3</th>\n      <td>(17.7, 22.3]</td>\n      <td>12</td>\n      <td>25.000000</td>\n      <td>28</td>\n      <td>58.333333</td>\n    </tr>\n    <tr>\n      <th>4</th>\n      <td>(22.3, 27]</td>\n      <td>6</td>\n      <td>12.500000</td>\n      <td>34</td>\n      <td>70.833333</td>\n    </tr>\n    <tr>\n      <th>5</th>\n      <td>(27, 31.6]</td>\n      <td>9</td>\n      <td>18.750000</td>\n      <td>43</td>\n      <td>89.583333</td>\n    </tr>\n    <tr>\n      <th>6</th>\n      <td>(31.6, 36.2]</td>\n      <td>2</td>\n      <td>4.166667</td>\n      <td>45</td>\n      <td>93.750000</td>\n    </tr>\n    <tr>\n      <th>7</th>\n      <td>(36.2, 40.8]</td>\n      <td>0</td>\n      <td>0.000000</td>\n      <td>45</td>\n      <td>93.750000</td>\n    </tr>\n    <tr>\n      <th>8</th>\n      <td>(40.8, 45.4]</td>\n      <td>0</td>\n      <td>0.000000</td>\n      <td>45</td>\n      <td>93.750000</td>\n    </tr>\n    <tr>\n      <th>9</th>\n      <td>(45.4, 50.1]</td>\n      <td>2</td>\n      <td>4.166667</td>\n      <td>47</td>\n      <td>97.916667</td>\n    </tr>\n  </tbody>\n</table>\n</div>"
     },
     "metadata": {},
     "execution_count": 110
    }
   ],
   "source": [
    "cancerL"
   ]
  },
  {
   "source": [
    "### Highest Incomes"
   ],
   "cell_type": "markdown",
   "metadata": {}
  },
  {
   "cell_type": "code",
   "execution_count": 112,
   "metadata": {},
   "outputs": [],
   "source": [
    "#Create dataframe to store values \n",
    "cancerH = pd.DataFrame() \n",
    "cancerH['value'] = [ '(13.1, 21.9]', '(21.9, 30.7]', '(30.7, 39.5]', '(39.5, 48.3]', '(48.3, 57.1]', '(57.1, 65.9]', '(65.9, 74.7]', '(74.7, 83.5]', '(83.5, 92.3]', '(92.3, 101.1]' ]"
   ]
  },
  {
   "cell_type": "code",
   "execution_count": 113,
   "metadata": {},
   "outputs": [],
   "source": [
    "# frequency and percentage distritions for a number of breastcancerper100th with higher incomes\n",
    "cCancerH = highestData['breastcancerper100th'].value_counts(sort=False,bins=10)\n",
    "pCancerH = highestData['breastcancerper100th'].value_counts(sort=False,bins=10,normalize=True)*100\n",
    "\n",
    "# add values to dataframe \n",
    "cancerH['freq'] = cCancerH.tolist()\n",
    "cancerH['percent'] = pCancerH.tolist()\n",
    "\n",
    "#cumulative frequency and cumulative percentage for breastcancerper100th with lower incomes\n",
    "cancerH['cum freq'] = cancerH['freq'].cumsum()\n",
    "cancerH['cum percent'] = cancerH['percent'].cumsum()"
   ]
  },
  {
   "cell_type": "code",
   "execution_count": 114,
   "metadata": {},
   "outputs": [
    {
     "output_type": "execute_result",
     "data": {
      "text/plain": [
       "           value  freq   percent  cum freq  cum percent\n",
       "0   (13.1, 21.9]     3  6.250000         3     6.250000\n",
       "1   (21.9, 30.7]     2  4.166667         5    10.416667\n",
       "2   (30.7, 39.5]     2  4.166667         7    14.583333\n",
       "3   (39.5, 48.3]     1  2.083333         8    16.666667\n",
       "4   (48.3, 57.1]     7 14.583333        15    31.250000\n",
       "5   (57.1, 65.9]     1  2.083333        16    33.333333\n",
       "6   (65.9, 74.7]     4  8.333333        20    41.666667\n",
       "7   (74.7, 83.5]     7 14.583333        27    56.250000\n",
       "8   (83.5, 92.3]    11 22.916667        38    79.166667\n",
       "9  (92.3, 101.1]     1  2.083333        39    81.250000"
      ],
      "text/html": "<div>\n<style scoped>\n    .dataframe tbody tr th:only-of-type {\n        vertical-align: middle;\n    }\n\n    .dataframe tbody tr th {\n        vertical-align: top;\n    }\n\n    .dataframe thead th {\n        text-align: right;\n    }\n</style>\n<table border=\"1\" class=\"dataframe\">\n  <thead>\n    <tr style=\"text-align: right;\">\n      <th></th>\n      <th>value</th>\n      <th>freq</th>\n      <th>percent</th>\n      <th>cum freq</th>\n      <th>cum percent</th>\n    </tr>\n  </thead>\n  <tbody>\n    <tr>\n      <th>0</th>\n      <td>(13.1, 21.9]</td>\n      <td>3</td>\n      <td>6.250000</td>\n      <td>3</td>\n      <td>6.250000</td>\n    </tr>\n    <tr>\n      <th>1</th>\n      <td>(21.9, 30.7]</td>\n      <td>2</td>\n      <td>4.166667</td>\n      <td>5</td>\n      <td>10.416667</td>\n    </tr>\n    <tr>\n      <th>2</th>\n      <td>(30.7, 39.5]</td>\n      <td>2</td>\n      <td>4.166667</td>\n      <td>7</td>\n      <td>14.583333</td>\n    </tr>\n    <tr>\n      <th>3</th>\n      <td>(39.5, 48.3]</td>\n      <td>1</td>\n      <td>2.083333</td>\n      <td>8</td>\n      <td>16.666667</td>\n    </tr>\n    <tr>\n      <th>4</th>\n      <td>(48.3, 57.1]</td>\n      <td>7</td>\n      <td>14.583333</td>\n      <td>15</td>\n      <td>31.250000</td>\n    </tr>\n    <tr>\n      <th>5</th>\n      <td>(57.1, 65.9]</td>\n      <td>1</td>\n      <td>2.083333</td>\n      <td>16</td>\n      <td>33.333333</td>\n    </tr>\n    <tr>\n      <th>6</th>\n      <td>(65.9, 74.7]</td>\n      <td>4</td>\n      <td>8.333333</td>\n      <td>20</td>\n      <td>41.666667</td>\n    </tr>\n    <tr>\n      <th>7</th>\n      <td>(74.7, 83.5]</td>\n      <td>7</td>\n      <td>14.583333</td>\n      <td>27</td>\n      <td>56.250000</td>\n    </tr>\n    <tr>\n      <th>8</th>\n      <td>(83.5, 92.3]</td>\n      <td>11</td>\n      <td>22.916667</td>\n      <td>38</td>\n      <td>79.166667</td>\n    </tr>\n    <tr>\n      <th>9</th>\n      <td>(92.3, 101.1]</td>\n      <td>1</td>\n      <td>2.083333</td>\n      <td>39</td>\n      <td>81.250000</td>\n    </tr>\n  </tbody>\n</table>\n</div>"
     },
     "metadata": {},
     "execution_count": 114
    }
   ],
   "source": [
    "cancerH"
   ]
  },
  {
   "cell_type": "code",
   "execution_count": null,
   "metadata": {},
   "outputs": [],
   "source": []
  }
 ]
}