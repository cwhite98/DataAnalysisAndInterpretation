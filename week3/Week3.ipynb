{
 "metadata": {
  "language_info": {
   "codemirror_mode": {
    "name": "ipython",
    "version": 3
   },
   "file_extension": ".py",
   "mimetype": "text/x-python",
   "name": "python",
   "nbconvert_exporter": "python",
   "pygments_lexer": "ipython3",
   "version": "3.6.12-final"
  },
  "orig_nbformat": 2,
  "kernelspec": {
   "name": "Python 3.6.12 64-bit ('conda': conda)",
   "display_name": "Python 3.6.12 64-bit ('conda': conda)",
   "metadata": {
    "interpreter": {
     "hash": "48858586ecdddd909ece2515a431d924087e6d09d452a01e63a879db3ebf31a1"
    }
   }
  }
 },
 "nbformat": 4,
 "nbformat_minor": 2,
 "cells": [
  {
   "cell_type": "code",
   "execution_count": 2,
   "metadata": {},
   "outputs": [],
   "source": [
    "import pandas as pd\n",
    "import numpy as np"
   ]
  },
  {
   "cell_type": "code",
   "execution_count": 3,
   "metadata": {},
   "outputs": [
    {
     "output_type": "execute_result",
     "data": {
      "text/plain": [
       "       country   incomeperperson alcconsumption armedforcesrate  \\\n",
       "0  Afghanistan                              .03        .5696534   \n",
       "1      Albania  1914.99655094922           7.29       1.0247361   \n",
       "2      Algeria  2231.99333515006            .69        2.306817   \n",
       "3      Andorra  21943.3398976022          10.17                   \n",
       "4       Angola  1381.00426770244           5.57       1.4613288   \n",
       "\n",
       "  breastcancerper100th      co2emissions  femaleemployrate hivrate  \\\n",
       "0                 26.8          75944000  25.6000003814697           \n",
       "1                 57.4  223747333.333333  42.0999984741211           \n",
       "2                 23.5  2932108666.66667  31.7000007629394      .1   \n",
       "3                                                                    \n",
       "4                 23.1         248358000  69.4000015258789       2   \n",
       "\n",
       "    internetuserate lifeexpectancy     oilperperson polityscore  \\\n",
       "0  3.65412162280064         48.673                            0   \n",
       "1  44.9899469578783         76.918                            9   \n",
       "2  12.5000733055148         73.131  .42009452521537           2   \n",
       "3                81                                               \n",
       "4  9.99995388324075         51.093                           -2   \n",
       "\n",
       "  relectricperperson   suicideper100th        employrate urbanrate  \n",
       "0                     6.68438529968262  55.7000007629394     24.04  \n",
       "1   636.341383366604  7.69932985305786  51.4000015258789     46.72  \n",
       "2   590.509814347428   4.8487696647644              50.5     65.22  \n",
       "3                     5.36217880249023                       88.92  \n",
       "4   172.999227388199  14.5546770095825  75.6999969482422      56.7  "
      ],
      "text/html": "<div>\n<style scoped>\n    .dataframe tbody tr th:only-of-type {\n        vertical-align: middle;\n    }\n\n    .dataframe tbody tr th {\n        vertical-align: top;\n    }\n\n    .dataframe thead th {\n        text-align: right;\n    }\n</style>\n<table border=\"1\" class=\"dataframe\">\n  <thead>\n    <tr style=\"text-align: right;\">\n      <th></th>\n      <th>country</th>\n      <th>incomeperperson</th>\n      <th>alcconsumption</th>\n      <th>armedforcesrate</th>\n      <th>breastcancerper100th</th>\n      <th>co2emissions</th>\n      <th>femaleemployrate</th>\n      <th>hivrate</th>\n      <th>internetuserate</th>\n      <th>lifeexpectancy</th>\n      <th>oilperperson</th>\n      <th>polityscore</th>\n      <th>relectricperperson</th>\n      <th>suicideper100th</th>\n      <th>employrate</th>\n      <th>urbanrate</th>\n    </tr>\n  </thead>\n  <tbody>\n    <tr>\n      <th>0</th>\n      <td>Afghanistan</td>\n      <td></td>\n      <td>.03</td>\n      <td>.5696534</td>\n      <td>26.8</td>\n      <td>75944000</td>\n      <td>25.6000003814697</td>\n      <td></td>\n      <td>3.65412162280064</td>\n      <td>48.673</td>\n      <td></td>\n      <td>0</td>\n      <td></td>\n      <td>6.68438529968262</td>\n      <td>55.7000007629394</td>\n      <td>24.04</td>\n    </tr>\n    <tr>\n      <th>1</th>\n      <td>Albania</td>\n      <td>1914.99655094922</td>\n      <td>7.29</td>\n      <td>1.0247361</td>\n      <td>57.4</td>\n      <td>223747333.333333</td>\n      <td>42.0999984741211</td>\n      <td></td>\n      <td>44.9899469578783</td>\n      <td>76.918</td>\n      <td></td>\n      <td>9</td>\n      <td>636.341383366604</td>\n      <td>7.69932985305786</td>\n      <td>51.4000015258789</td>\n      <td>46.72</td>\n    </tr>\n    <tr>\n      <th>2</th>\n      <td>Algeria</td>\n      <td>2231.99333515006</td>\n      <td>.69</td>\n      <td>2.306817</td>\n      <td>23.5</td>\n      <td>2932108666.66667</td>\n      <td>31.7000007629394</td>\n      <td>.1</td>\n      <td>12.5000733055148</td>\n      <td>73.131</td>\n      <td>.42009452521537</td>\n      <td>2</td>\n      <td>590.509814347428</td>\n      <td>4.8487696647644</td>\n      <td>50.5</td>\n      <td>65.22</td>\n    </tr>\n    <tr>\n      <th>3</th>\n      <td>Andorra</td>\n      <td>21943.3398976022</td>\n      <td>10.17</td>\n      <td></td>\n      <td></td>\n      <td></td>\n      <td></td>\n      <td></td>\n      <td>81</td>\n      <td></td>\n      <td></td>\n      <td></td>\n      <td></td>\n      <td>5.36217880249023</td>\n      <td></td>\n      <td>88.92</td>\n    </tr>\n    <tr>\n      <th>4</th>\n      <td>Angola</td>\n      <td>1381.00426770244</td>\n      <td>5.57</td>\n      <td>1.4613288</td>\n      <td>23.1</td>\n      <td>248358000</td>\n      <td>69.4000015258789</td>\n      <td>2</td>\n      <td>9.99995388324075</td>\n      <td>51.093</td>\n      <td></td>\n      <td>-2</td>\n      <td>172.999227388199</td>\n      <td>14.5546770095825</td>\n      <td>75.6999969482422</td>\n      <td>56.7</td>\n    </tr>\n  </tbody>\n</table>\n</div>"
     },
     "metadata": {},
     "execution_count": 3
    }
   ],
   "source": [
    "#Load the data with pandas\n",
    "df = pd.read_csv('../gapminder.csv', low_memory=False)\n",
    "df.head()"
   ]
  },
  {
   "cell_type": "code",
   "execution_count": 4,
   "metadata": {},
   "outputs": [
    {
     "output_type": "execute_result",
     "data": {
      "text/plain": [
       "     incomeperperson  alcconsumption  armedforcesrate  breastcancerper100th  \\\n",
       "0                NaN            0.03         0.569653                  26.8   \n",
       "1        1914.996551            7.29         1.024736                  57.4   \n",
       "2        2231.993335            0.69         2.306817                  23.5   \n",
       "3       21943.339898           10.17              NaN                   NaN   \n",
       "4        1381.004268            5.57         1.461329                  23.1   \n",
       "..               ...             ...              ...                   ...   \n",
       "208       722.807559            3.91         1.085367                  16.2   \n",
       "209              NaN             NaN         5.936085                   NaN   \n",
       "210       610.357367            0.20         2.316235                  35.1   \n",
       "211       432.226337            3.56         0.341335                  13.0   \n",
       "212       320.771890            4.96         1.032785                  19.0   \n",
       "\n",
       "     co2emissions  femaleemployrate  hivrate  internetuserate  lifeexpectancy  \\\n",
       "0    7.594400e+07         25.600000      NaN         3.654122          48.673   \n",
       "1    2.237473e+08         42.099998      NaN        44.989947          76.918   \n",
       "2    2.932109e+09         31.700001      0.1        12.500073          73.131   \n",
       "3             NaN               NaN      NaN        81.000000             NaN   \n",
       "4    2.483580e+08         69.400002      2.0         9.999954          51.093   \n",
       "..            ...               ...      ...              ...             ...   \n",
       "208  1.425435e+09         67.599998      0.4        27.851822          75.181   \n",
       "209  1.424133e+07         11.300000      NaN        36.422772          72.832   \n",
       "210  2.348647e+08         20.299999      NaN        12.349750          65.493   \n",
       "211  1.320257e+08         53.500000     13.5        10.124986          49.025   \n",
       "212  5.902197e+08         58.099998     14.3        11.500415          51.384   \n",
       "\n",
       "     oilperperson  polityscore  relectricperperson  suicideper100th  \\\n",
       "0             NaN          0.0                 NaN         6.684385   \n",
       "1             NaN          9.0          636.341383         7.699330   \n",
       "2        0.420095          2.0          590.509814         4.848770   \n",
       "3             NaN          NaN                 NaN         5.362179   \n",
       "4             NaN         -2.0          172.999227        14.554677   \n",
       "..            ...          ...                 ...              ...   \n",
       "208           NaN         -7.0          302.725655        11.653322   \n",
       "209           NaN          NaN                 NaN              NaN   \n",
       "210           NaN         -2.0          130.057831         6.265789   \n",
       "211           NaN          7.0          168.623031        12.019036   \n",
       "212           NaN          1.0          297.883200        13.905267   \n",
       "\n",
       "     employrate  urbanrate             country  \n",
       "0     55.700001      24.04         Afghanistan  \n",
       "1     51.400002      46.72             Albania  \n",
       "2     50.500000      65.22             Algeria  \n",
       "3           NaN      88.92             Andorra  \n",
       "4     75.699997      56.70              Angola  \n",
       "..          ...        ...                 ...  \n",
       "208   71.000000      27.84             Vietnam  \n",
       "209   32.000000      71.90  West Bank and Gaza  \n",
       "210   39.000000      30.64         Yemen, Rep.  \n",
       "211   61.000000      35.42              Zambia  \n",
       "212   66.800003      37.34            Zimbabwe  \n",
       "\n",
       "[213 rows x 16 columns]"
      ],
      "text/html": "<div>\n<style scoped>\n    .dataframe tbody tr th:only-of-type {\n        vertical-align: middle;\n    }\n\n    .dataframe tbody tr th {\n        vertical-align: top;\n    }\n\n    .dataframe thead th {\n        text-align: right;\n    }\n</style>\n<table border=\"1\" class=\"dataframe\">\n  <thead>\n    <tr style=\"text-align: right;\">\n      <th></th>\n      <th>incomeperperson</th>\n      <th>alcconsumption</th>\n      <th>armedforcesrate</th>\n      <th>breastcancerper100th</th>\n      <th>co2emissions</th>\n      <th>femaleemployrate</th>\n      <th>hivrate</th>\n      <th>internetuserate</th>\n      <th>lifeexpectancy</th>\n      <th>oilperperson</th>\n      <th>polityscore</th>\n      <th>relectricperperson</th>\n      <th>suicideper100th</th>\n      <th>employrate</th>\n      <th>urbanrate</th>\n      <th>country</th>\n    </tr>\n  </thead>\n  <tbody>\n    <tr>\n      <th>0</th>\n      <td>NaN</td>\n      <td>0.03</td>\n      <td>0.569653</td>\n      <td>26.8</td>\n      <td>7.594400e+07</td>\n      <td>25.600000</td>\n      <td>NaN</td>\n      <td>3.654122</td>\n      <td>48.673</td>\n      <td>NaN</td>\n      <td>0.0</td>\n      <td>NaN</td>\n      <td>6.684385</td>\n      <td>55.700001</td>\n      <td>24.04</td>\n      <td>Afghanistan</td>\n    </tr>\n    <tr>\n      <th>1</th>\n      <td>1914.996551</td>\n      <td>7.29</td>\n      <td>1.024736</td>\n      <td>57.4</td>\n      <td>2.237473e+08</td>\n      <td>42.099998</td>\n      <td>NaN</td>\n      <td>44.989947</td>\n      <td>76.918</td>\n      <td>NaN</td>\n      <td>9.0</td>\n      <td>636.341383</td>\n      <td>7.699330</td>\n      <td>51.400002</td>\n      <td>46.72</td>\n      <td>Albania</td>\n    </tr>\n    <tr>\n      <th>2</th>\n      <td>2231.993335</td>\n      <td>0.69</td>\n      <td>2.306817</td>\n      <td>23.5</td>\n      <td>2.932109e+09</td>\n      <td>31.700001</td>\n      <td>0.1</td>\n      <td>12.500073</td>\n      <td>73.131</td>\n      <td>0.420095</td>\n      <td>2.0</td>\n      <td>590.509814</td>\n      <td>4.848770</td>\n      <td>50.500000</td>\n      <td>65.22</td>\n      <td>Algeria</td>\n    </tr>\n    <tr>\n      <th>3</th>\n      <td>21943.339898</td>\n      <td>10.17</td>\n      <td>NaN</td>\n      <td>NaN</td>\n      <td>NaN</td>\n      <td>NaN</td>\n      <td>NaN</td>\n      <td>81.000000</td>\n      <td>NaN</td>\n      <td>NaN</td>\n      <td>NaN</td>\n      <td>NaN</td>\n      <td>5.362179</td>\n      <td>NaN</td>\n      <td>88.92</td>\n      <td>Andorra</td>\n    </tr>\n    <tr>\n      <th>4</th>\n      <td>1381.004268</td>\n      <td>5.57</td>\n      <td>1.461329</td>\n      <td>23.1</td>\n      <td>2.483580e+08</td>\n      <td>69.400002</td>\n      <td>2.0</td>\n      <td>9.999954</td>\n      <td>51.093</td>\n      <td>NaN</td>\n      <td>-2.0</td>\n      <td>172.999227</td>\n      <td>14.554677</td>\n      <td>75.699997</td>\n      <td>56.70</td>\n      <td>Angola</td>\n    </tr>\n    <tr>\n      <th>...</th>\n      <td>...</td>\n      <td>...</td>\n      <td>...</td>\n      <td>...</td>\n      <td>...</td>\n      <td>...</td>\n      <td>...</td>\n      <td>...</td>\n      <td>...</td>\n      <td>...</td>\n      <td>...</td>\n      <td>...</td>\n      <td>...</td>\n      <td>...</td>\n      <td>...</td>\n      <td>...</td>\n    </tr>\n    <tr>\n      <th>208</th>\n      <td>722.807559</td>\n      <td>3.91</td>\n      <td>1.085367</td>\n      <td>16.2</td>\n      <td>1.425435e+09</td>\n      <td>67.599998</td>\n      <td>0.4</td>\n      <td>27.851822</td>\n      <td>75.181</td>\n      <td>NaN</td>\n      <td>-7.0</td>\n      <td>302.725655</td>\n      <td>11.653322</td>\n      <td>71.000000</td>\n      <td>27.84</td>\n      <td>Vietnam</td>\n    </tr>\n    <tr>\n      <th>209</th>\n      <td>NaN</td>\n      <td>NaN</td>\n      <td>5.936085</td>\n      <td>NaN</td>\n      <td>1.424133e+07</td>\n      <td>11.300000</td>\n      <td>NaN</td>\n      <td>36.422772</td>\n      <td>72.832</td>\n      <td>NaN</td>\n      <td>NaN</td>\n      <td>NaN</td>\n      <td>NaN</td>\n      <td>32.000000</td>\n      <td>71.90</td>\n      <td>West Bank and Gaza</td>\n    </tr>\n    <tr>\n      <th>210</th>\n      <td>610.357367</td>\n      <td>0.20</td>\n      <td>2.316235</td>\n      <td>35.1</td>\n      <td>2.348647e+08</td>\n      <td>20.299999</td>\n      <td>NaN</td>\n      <td>12.349750</td>\n      <td>65.493</td>\n      <td>NaN</td>\n      <td>-2.0</td>\n      <td>130.057831</td>\n      <td>6.265789</td>\n      <td>39.000000</td>\n      <td>30.64</td>\n      <td>Yemen, Rep.</td>\n    </tr>\n    <tr>\n      <th>211</th>\n      <td>432.226337</td>\n      <td>3.56</td>\n      <td>0.341335</td>\n      <td>13.0</td>\n      <td>1.320257e+08</td>\n      <td>53.500000</td>\n      <td>13.5</td>\n      <td>10.124986</td>\n      <td>49.025</td>\n      <td>NaN</td>\n      <td>7.0</td>\n      <td>168.623031</td>\n      <td>12.019036</td>\n      <td>61.000000</td>\n      <td>35.42</td>\n      <td>Zambia</td>\n    </tr>\n    <tr>\n      <th>212</th>\n      <td>320.771890</td>\n      <td>4.96</td>\n      <td>1.032785</td>\n      <td>19.0</td>\n      <td>5.902197e+08</td>\n      <td>58.099998</td>\n      <td>14.3</td>\n      <td>11.500415</td>\n      <td>51.384</td>\n      <td>NaN</td>\n      <td>1.0</td>\n      <td>297.883200</td>\n      <td>13.905267</td>\n      <td>66.800003</td>\n      <td>37.34</td>\n      <td>Zimbabwe</td>\n    </tr>\n  </tbody>\n</table>\n<p>213 rows × 16 columns</p>\n</div>"
     },
     "metadata": {},
     "execution_count": 4
    }
   ],
   "source": [
    "# Convert columns from strings to numeric\n",
    "columns = ['incomeperperson', 'alcconsumption', 'armedforcesrate', 'breastcancerper100th', 'co2emissions', 'femaleemployrate', 'hivrate', 'internetuserate', 'lifeexpectancy', 'oilperperson', 'polityscore', 'relectricperperson', 'suicideper100th', 'employrate', 'urbanrate']\n",
    "data = df[columns].apply(pd.to_numeric, errors='coerce')\n",
    "data['country'] = df['country']\n",
    "data"
   ]
  },
  {
   "source": [
    "## Null Values"
   ],
   "cell_type": "markdown",
   "metadata": {}
  },
  {
   "cell_type": "code",
   "execution_count": 18,
   "metadata": {},
   "outputs": [],
   "source": [
    "#Remove null values\n",
    "data= data.replace(0, np.NaN)\n",
    "data = data.dropna()"
   ]
  },
  {
   "source": [
    "## Limit Data"
   ],
   "cell_type": "markdown",
   "metadata": {}
  },
  {
   "cell_type": "code",
   "execution_count": 23,
   "metadata": {},
   "outputs": [],
   "source": [
    "#Countries with lowest incomes\n",
    "lowestData = data[data['incomeperperson'] < 749]"
   ]
  },
  {
   "cell_type": "code",
   "execution_count": 24,
   "metadata": {},
   "outputs": [],
   "source": [
    "#Countries with the hieghest incomes\n",
    "highestData = data[data['incomeperperson'] > 9379]"
   ]
  },
  {
   "source": [
    "## Calculate frequencies"
   ],
   "cell_type": "markdown",
   "metadata": {}
  },
  {
   "cell_type": "code",
   "execution_count": 26,
   "metadata": {},
   "outputs": [
    {
     "output_type": "stream",
     "name": "stdout",
     "text": [
      "Values for incomeperperson:\n                        counts  percentages\n(518.648, 4499.492]         22     0.392857\n(4499.492, 8440.921]         9     0.160714\n(8440.921, 12382.35]         3     0.053571\n(12382.35, 16323.779]        3     0.053571\n(16323.779, 20265.208]       2     0.035714\n(20265.208, 24206.637]       1     0.017857\n(24206.637, 28148.066]       8     0.142857\n(28148.066, 32089.495]       1     0.017857\n(32089.495, 36030.924]       3     0.053571\n(36030.924, 39972.353]       4     0.071429\n"
     ]
    }
   ],
   "source": [
    "print(\"Values for incomeperperson:\")\n",
    "incomeperperson_freq = pd.concat(dict(counts = data[\"incomeperperson\"].value_counts(sort=False, bins=10, dropna=False), percentages = data[\"incomeperperson\"].value_counts(sort=False, bins=10, dropna=False, normalize=True)), axis=1)\n",
    "print(incomeperperson_freq)"
   ]
  },
  {
   "cell_type": "code",
   "execution_count": 32,
   "metadata": {},
   "outputs": [
    {
     "output_type": "stream",
     "name": "stdout",
     "text": [
      "Values for lifeexpectancy:\n                  counts  percentages\n(52.765, 55.857]       1     0.017857\n(55.857, 58.916]       0     0.000000\n(58.916, 61.976]       0     0.000000\n(61.976, 65.036]       0     0.000000\n(65.036, 68.095]       3     0.053571\n(68.095, 71.155]       8     0.142857\n(71.155, 74.215]      12     0.214286\n(74.215, 77.275]       7     0.125000\n(77.275, 80.334]       9     0.160714\n(80.334, 83.394]      16     0.285714\n"
     ]
    }
   ],
   "source": [
    "print(\"Values for lifeexpectancy:\")\n",
    "lifeexpectancy_freq = pd.concat(dict(counts = data[\"lifeexpectancy\"].value_counts(sort=False, bins=10, dropna=False), percentages = data[\"lifeexpectancy\"].value_counts(sort=False, bins=10, dropna=False, normalize=True)), axis=1)\n",
    "print(lifeexpectancy_freq)"
   ]
  },
  {
   "cell_type": "code",
   "execution_count": 34,
   "metadata": {},
   "outputs": [
    {
     "output_type": "stream",
     "name": "stdout",
     "text": [
      "Values for internetuserate:\n                  counts  percentages\n(3.609, 12.658]        5     0.089286\n(12.658, 21.616]       4     0.071429\n(21.616, 30.573]       3     0.053571\n(30.573, 39.531]       7     0.125000\n(39.531, 48.489]       9     0.160714\n(48.489, 57.447]       3     0.053571\n(57.447, 66.404]       4     0.071429\n(66.404, 75.362]       5     0.089286\n(75.362, 84.32]       10     0.178571\n(84.32, 93.278]        6     0.107143\n"
     ]
    }
   ],
   "source": [
    "print(\"Values for internetuserate:\")\n",
    "internetuserate_freq = pd.concat(dict(counts = data[\"internetuserate\"].value_counts(sort=False, bins=10, dropna=False), percentages = data[\"internetuserate\"].value_counts(sort=False, bins=10, dropna=False, normalize=True)), axis=1)\n",
    "print(internetuserate_freq)"
   ]
  },
  {
   "cell_type": "code",
   "execution_count": 35,
   "metadata": {},
   "outputs": [
    {
     "output_type": "stream",
     "name": "stdout",
     "text": [
      "Values for breastcancerper100th:\n                             counts  percentages\n(16.514999999999997, 25.05]      11     0.196429\n(25.05, 33.5]                     7     0.125000\n(33.5, 41.95]                     7     0.125000\n(41.95, 50.4]                     9     0.160714\n(50.4, 58.85]                     4     0.071429\n(58.85, 67.3]                     1     0.017857\n(67.3, 75.75]                     5     0.089286\n(75.75, 84.2]                     3     0.053571\n(84.2, 92.65]                     8     0.142857\n(92.65, 101.1]                    1     0.017857\n"
     ]
    }
   ],
   "source": [
    "print(\"Values for breastcancerper100th:\")\n",
    "breastcancerper100th_freq = pd.concat(dict(counts = data[\"breastcancerper100th\"].value_counts(sort=False, bins=10, dropna=False), percentages = data[\"breastcancerper100th\"].value_counts(sort=False, bins=10, dropna=False, normalize=True)), axis=1)\n",
    "print(breastcancerper100th_freq)"
   ]
  },
  {
   "source": [
    "## New Categorical Variables"
   ],
   "cell_type": "markdown",
   "metadata": {}
  },
  {
   "cell_type": "code",
   "execution_count": 39,
   "metadata": {},
   "outputs": [],
   "source": [
    "#Categorical variable to label incomeperperson\n",
    "data['incomelabel'] =pd.cut(data.incomeperperson,4,labels=['low','medium','high','very high'])\n",
    "income_freq = pd.concat(dict(counts = data[\"incomelabel\"].value_counts(sort=False, dropna=False),\n",
    "                                   percentages = data[\"incomelabel\"].value_counts(sort=False, dropna=False,\n",
    "                                                                                       normalize=True)),\n",
    "                            axis=1)"
   ]
  },
  {
   "cell_type": "code",
   "execution_count": null,
   "metadata": {},
   "outputs": [],
   "source": []
  }
 ]
}